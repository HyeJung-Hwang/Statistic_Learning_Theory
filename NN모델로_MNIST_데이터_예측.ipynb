{
  "nbformat": 4,
  "nbformat_minor": 0,
  "metadata": {
    "colab": {
      "name": "NN모델로 MNIST 데이터 예측.ipynb",
      "provenance": [],
      "collapsed_sections": [],
      "include_colab_link": true
    },
    "kernelspec": {
      "name": "python3",
      "display_name": "Python 3"
    }
  },
  "cells": [
    {
      "cell_type": "markdown",
      "metadata": {
        "id": "view-in-github",
        "colab_type": "text"
      },
      "source": [
        "<a href=\"https://colab.research.google.com/github/HyeJung-Hwang/Statistic_Learning_Theory/blob/main/NN%EB%AA%A8%EB%8D%B8%EB%A1%9C_MNIST_%EB%8D%B0%EC%9D%B4%ED%84%B0_%EC%98%88%EC%B8%A1.ipynb\" target=\"_parent\"><img src=\"https://colab.research.google.com/assets/colab-badge.svg\" alt=\"Open In Colab\"/></a>"
      ]
    },
    {
      "cell_type": "code",
      "metadata": {
        "id": "hEUZ3qLEWtyg"
      },
      "source": [
        "import torch\n",
        "import matplotlib.pyplot as plt\n",
        "import numpy as np\n",
        "import torch.nn.functional as F\n",
        "from torch import nn\n",
        "from torchvision import datasets, transforms"
      ],
      "execution_count": null,
      "outputs": []
    },
    {
      "cell_type": "code",
      "metadata": {
        "id": "JSiGUFdkaS38"
      },
      "source": [
        "mnist_transform=transforms.Compose([\n",
        "                              transforms.Resize((28,28)),\n",
        "                              transforms.ToTensor(), # first, convert image to PyTorch (float) tensor\n",
        "                              transforms.Normalize((0.5,), (0.5,)) # normalize inputs, x' = (x-u)/std, x'=[-1, 1] \n",
        "                              ])     \n"
      ],
      "execution_count": null,
      "outputs": []
    },
    {
      "cell_type": "code",
      "metadata": {
        "id": "3CFTI35pv8Dw"
      },
      "source": [
        "train_dataset = datasets.MNIST(root='./mnist_data', \n",
        "                                  train=True, \n",
        "                                  download=True, \n",
        "                                  transform=mnist_transform)\n",
        "#print(train_dataset)\n",
        "train_loader = torch.utils.data.DataLoader(train_dataset, batch_size=100, shuffle=True) \n",
        "\n",
        "test_dataset = datasets.MNIST(root='./mnist_data', \n",
        "                                  train=False, \n",
        "                                  download=True, \n",
        "                                  transform=mnist_transform)\n",
        "#print(train_dataset)\n",
        "test_loader = torch.utils.data.DataLoader(test_dataset, batch_size=100, shuffle=False) "
      ],
      "execution_count": null,
      "outputs": []
    },
    {
      "cell_type": "markdown",
      "metadata": {
        "id": "1zbBbsxjegop"
      },
      "source": [
        "# **contruct model architecture"
      ]
    },
    {
      "cell_type": "markdown",
      "metadata": {
        "id": "eLcPswfx-nP-"
      },
      "source": [
        "model depth= 4 (h1=2000,h2=2000,h3=1000,h4=1000)"
      ]
    },
    {
      "cell_type": "code",
      "metadata": {
        "id": "4ZqyRN1T-mio"
      },
      "source": [
        "class NN_MNIST(nn.Module):\n",
        "  def __init__(self, NN_in, H1,H2,H3,H4,NN_out):  #NN_in , 추가, NN_out\n",
        "    super().__init__()\n",
        "    self.linear1 = nn.Linear(NN_in, H1)\n",
        "    self.linear2 = nn.Linear(H1, H2)\n",
        "    self.linear3 = nn.Linear(H2, H3)\n",
        "    self.linear4 = nn.Linear(H3, H4)\n",
        "    self.linear5 = nn.Linear(H4, NN_out)\n",
        "\n",
        "  def forward(self, x):\n",
        "    x = F.relu(self.linear1(x))\n",
        "    x = F.relu(self.linear2(x))\n",
        "    x = F.relu(self.linear3(x))\n",
        "    x = F.relu(self.linear4(x))\n",
        "    x = self.linear5(x) # activation not needed for multi-class classification task\n",
        "    return x"
      ],
      "execution_count": null,
      "outputs": []
    },
    {
      "cell_type": "markdown",
      "metadata": {
        "id": "cKUaNDY8g8ry"
      },
      "source": [
        "#** make model instance \n"
      ]
    },
    {
      "cell_type": "code",
      "metadata": {
        "id": "k-3h4gCGgfs4",
        "colab": {
          "base_uri": "https://localhost:8080/"
        },
        "outputId": "5dd2a397-0899-44ee-bf44-3382d495363b"
      },
      "source": [
        "torch.manual_seed(1)\n",
        "model = NN_MNIST(784,2000,2000,1000,1000,10)\n",
        "model"
      ],
      "execution_count": null,
      "outputs": [
        {
          "output_type": "execute_result",
          "data": {
            "text/plain": [
              "NN_MNIST(\n",
              "  (linear1): Linear(in_features=784, out_features=2000, bias=True)\n",
              "  (linear2): Linear(in_features=2000, out_features=2000, bias=True)\n",
              "  (linear3): Linear(in_features=2000, out_features=1000, bias=True)\n",
              "  (linear4): Linear(in_features=1000, out_features=1000, bias=True)\n",
              "  (linear5): Linear(in_features=1000, out_features=10, bias=True)\n",
              ")"
            ]
          },
          "metadata": {},
          "execution_count": 11
        }
      ]
    },
    {
      "cell_type": "markdown",
      "metadata": {
        "id": "Lc1nU9M8g_Me"
      },
      "source": [
        "# optimizer "
      ]
    },
    {
      "cell_type": "markdown",
      "metadata": {
        "id": "-WRm8RUGSq74"
      },
      "source": [
        "**learning rate를 0.1로 높임"
      ]
    },
    {
      "cell_type": "code",
      "metadata": {
        "id": "nODj6oD3hDyv"
      },
      "source": [
        "#optimizer = torch.optim.SGD(model.parameters(), lr=0.1)\n",
        "optimizer = torch.optim.SGD(model.parameters(), lr=0.1)\n",
        "criterion = nn.CrossEntropyLoss() # cf. BCE()"
      ],
      "execution_count": null,
      "outputs": []
    },
    {
      "cell_type": "markdown",
      "metadata": {
        "id": "t7hW1TABSfEm"
      },
      "source": [
        "**epoch수를 40으로 높임"
      ]
    },
    {
      "cell_type": "code",
      "metadata": {
        "id": "uhmMC4Vlmsx0",
        "colab": {
          "base_uri": "https://localhost:8080/"
        },
        "outputId": "3afe778e-3206-4b04-9134-8f023cc6ae8f"
      },
      "source": [
        "epochs = 40\n",
        "running_loss_history = []\n",
        "running_corrects_history = []\n",
        "val_loss_history = []\n",
        "val_corrects_history = []\n",
        "for eno in range(epochs):\n",
        "\n",
        "  running_loss = 0.0\n",
        "  running_corrects = 0.0\n",
        "  val_running_loss = 0.0\n",
        "  val_running_corrects = 0.0\n",
        "\n",
        "  # a batch of 100 images x 600 batches -> 60,000 for a single epoch \n",
        "  for inputs, labels in train_loader:     \n",
        "    # input [100(batch size), 1(channel), 28(width), 28(height)] =>     \n",
        "    inputs = inputs.view(inputs.shape[0], -1) # [100, 784]\n",
        "    outputs = model(inputs) # logits (scores)\n",
        "    loss = criterion(outputs, labels) # outputs [100, 1], labels [100]\n",
        "    \n",
        "    optimizer.zero_grad()\n",
        "    loss.backward()\n",
        "    optimizer.step()\n",
        "\n",
        "    #max function output(max, max_indices)\n",
        "    _, pred_idx = torch.max(outputs, 1) # 2nd argument - the dim to reduce    \n",
        "\n",
        "    running_loss += loss.item() # loss per batch \n",
        "    running_corrects += torch.sum(pred_idx == labels.data)\n",
        "\n",
        "    # 학습 종료 후 \n",
        "  else:\n",
        "    with torch.no_grad():\n",
        "        for val_inputs, val_labels in test_loader:     \n",
        "    # input [100(batch size), 1(channel), 28(width), 28(height)] =>     \n",
        "            val_inputs = val_inputs.view(val_inputs.shape[0], -1) # [100, 784]\n",
        "            val_outputs = model(val_inputs) # logits (scores)\n",
        "            val_loss = criterion(val_outputs, val_labels) # outputs [100, 1], labels [100]\n",
        "            _, val_preds = torch.max(val_outputs, 1) # 2nd argument - the dim to reduce    \n",
        "            val_running_loss += loss.item() # loss per batch \n",
        "            val_running_corrects += torch.sum(val_preds == val_labels.data)\n",
        "\n",
        "\n",
        "        epoch_loss = running_loss/len(train_loader) \n",
        "        running_loss_history.append(epoch_loss)\n",
        "        epoch_acc = (running_corrects.float()/inputs.shape[0]*100)/len(train_loader) \n",
        "        running_corrects_history.append(epoch_acc)\n",
        "\n",
        "        val_epoch_loss = val_running_loss/len(test_loader) \n",
        "        val_loss_history.append(val_epoch_loss) #\n",
        "        epoch_val_acc = (val_running_corrects.float()/inputs.shape[0]*100)/len(test_loader) \n",
        "        val_corrects_history.append(epoch_val_acc) #\n",
        "        print('--------------- epoch: ', (eno+1), '---------------')\n",
        "        print('training loss: {:.4f}, accuracy {:.4f},val loss: {:.4f},val accuracy {:.4f}'.format(epoch_loss, epoch_acc.item(),val_epoch_loss,epoch_val_acc.item()))   "
      ],
      "execution_count": null,
      "outputs": [
        {
          "output_type": "stream",
          "name": "stdout",
          "text": [
            "--------------- epoch:  1 ---------------\n",
            "training loss: 0.6435, accuracy 79.4750,val loss: 0.1153,val accuracy 94.0800\n",
            "--------------- epoch:  2 ---------------\n",
            "training loss: 0.1854, accuracy 94.3567,val loss: 0.2110,val accuracy 90.5800\n",
            "--------------- epoch:  3 ---------------\n",
            "training loss: 0.1166, accuracy 96.3733,val loss: 0.0904,val accuracy 96.3900\n",
            "--------------- epoch:  4 ---------------\n",
            "training loss: 0.0999, accuracy 96.9967,val loss: 0.0862,val accuracy 96.7400\n",
            "--------------- epoch:  5 ---------------\n",
            "training loss: 0.0725, accuracy 97.7033,val loss: 0.0320,val accuracy 97.5200\n",
            "--------------- epoch:  6 ---------------\n",
            "training loss: 0.0554, accuracy 98.2617,val loss: 0.1219,val accuracy 97.2800\n",
            "--------------- epoch:  7 ---------------\n",
            "training loss: 0.1713, accuracy 95.8383,val loss: 0.0646,val accuracy 97.5600\n",
            "--------------- epoch:  8 ---------------\n",
            "training loss: 0.0530, accuracy 98.3233,val loss: 0.0645,val accuracy 95.6400\n",
            "--------------- epoch:  9 ---------------\n",
            "training loss: 0.0427, accuracy 98.6267,val loss: 0.0096,val accuracy 98.0100\n",
            "--------------- epoch:  10 ---------------\n",
            "training loss: 0.0352, accuracy 98.8117,val loss: 0.0106,val accuracy 98.0400\n",
            "--------------- epoch:  11 ---------------\n",
            "training loss: 0.0277, accuracy 99.1117,val loss: 0.0296,val accuracy 97.6900\n",
            "--------------- epoch:  12 ---------------\n",
            "training loss: 0.0239, accuracy 99.2367,val loss: 0.0477,val accuracy 98.0400\n",
            "--------------- epoch:  13 ---------------\n",
            "training loss: 0.0218, accuracy 99.3000,val loss: 0.0173,val accuracy 97.9800\n",
            "--------------- epoch:  14 ---------------\n",
            "training loss: 0.0158, accuracy 99.4900,val loss: 0.0059,val accuracy 98.2100\n",
            "--------------- epoch:  15 ---------------\n",
            "training loss: 0.0106, accuracy 99.6833,val loss: 0.0031,val accuracy 98.1400\n",
            "--------------- epoch:  16 ---------------\n",
            "training loss: 0.0084, accuracy 99.7500,val loss: 0.0038,val accuracy 98.1200\n",
            "--------------- epoch:  17 ---------------\n",
            "training loss: 0.0069, accuracy 99.8000,val loss: 0.0026,val accuracy 98.4400\n",
            "--------------- epoch:  18 ---------------\n",
            "training loss: 0.0086, accuracy 99.7633,val loss: 0.0040,val accuracy 98.3700\n",
            "--------------- epoch:  19 ---------------\n",
            "training loss: 0.2127, accuracy 95.5850,val loss: 0.1313,val accuracy 94.7900\n",
            "--------------- epoch:  20 ---------------\n",
            "training loss: 0.0484, accuracy 98.4967,val loss: 0.0774,val accuracy 97.0200\n",
            "--------------- epoch:  21 ---------------\n",
            "training loss: 0.0217, accuracy 99.2767,val loss: 0.0221,val accuracy 98.1300\n",
            "--------------- epoch:  22 ---------------\n",
            "training loss: 0.0168, accuracy 99.4650,val loss: 0.0078,val accuracy 98.0800\n",
            "--------------- epoch:  23 ---------------\n",
            "training loss: 0.0164, accuracy 99.5567,val loss: 0.0052,val accuracy 98.3600\n",
            "--------------- epoch:  24 ---------------\n",
            "training loss: 0.0115, accuracy 99.6667,val loss: 0.0045,val accuracy 98.3200\n",
            "--------------- epoch:  25 ---------------\n",
            "training loss: 0.0311, accuracy 99.1350,val loss: 0.0194,val accuracy 98.1800\n",
            "--------------- epoch:  26 ---------------\n",
            "training loss: 0.0115, accuracy 99.6617,val loss: 0.0060,val accuracy 98.3300\n",
            "--------------- epoch:  27 ---------------\n",
            "training loss: 0.0059, accuracy 99.8217,val loss: 0.0025,val accuracy 98.3000\n",
            "--------------- epoch:  28 ---------------\n",
            "training loss: 0.0032, accuracy 99.9183,val loss: 0.0009,val accuracy 98.3100\n",
            "--------------- epoch:  29 ---------------\n",
            "training loss: 0.0051, accuracy 99.8567,val loss: 0.0029,val accuracy 98.4000\n",
            "--------------- epoch:  30 ---------------\n",
            "training loss: 0.0024, accuracy 99.9400,val loss: 0.0001,val accuracy 98.4600\n",
            "--------------- epoch:  31 ---------------\n",
            "training loss: 0.0016, accuracy 99.9633,val loss: 0.0000,val accuracy 98.5600\n",
            "--------------- epoch:  32 ---------------\n",
            "training loss: 0.0006, accuracy 99.9917,val loss: 0.0003,val accuracy 98.6200\n",
            "--------------- epoch:  33 ---------------\n",
            "training loss: 0.0004, accuracy 99.9967,val loss: 0.0003,val accuracy 98.5800\n",
            "--------------- epoch:  34 ---------------\n",
            "training loss: 0.0003, accuracy 99.9983,val loss: 0.0001,val accuracy 98.6000\n",
            "--------------- epoch:  35 ---------------\n",
            "training loss: 0.0002, accuracy 99.9983,val loss: 0.0001,val accuracy 98.6600\n",
            "--------------- epoch:  36 ---------------\n",
            "training loss: 0.0002, accuracy 99.9983,val loss: 0.0002,val accuracy 98.6200\n",
            "--------------- epoch:  37 ---------------\n",
            "training loss: 0.0002, accuracy 99.9983,val loss: 0.0000,val accuracy 98.6100\n",
            "--------------- epoch:  38 ---------------\n",
            "training loss: 0.0001, accuracy 99.9983,val loss: 0.0001,val accuracy 98.6200\n",
            "--------------- epoch:  39 ---------------\n",
            "training loss: 0.0001, accuracy 99.9983,val loss: 0.0000,val accuracy 98.6300\n",
            "--------------- epoch:  40 ---------------\n",
            "training loss: 0.0001, accuracy 99.9983,val loss: 0.0001,val accuracy 98.6500\n"
          ]
        }
      ]
    },
    {
      "cell_type": "code",
      "metadata": {
        "id": "AcLamulgvbzr",
        "colab": {
          "base_uri": "https://localhost:8080/",
          "height": 282
        },
        "outputId": "b98e998d-b98a-4150-839d-5fe604c3b457"
      },
      "source": [
        "plt.plot(running_corrects_history, label='training accuracy(%)')\n",
        "plt.plot(val_corrects_history, label='validation accuracy(%)')\n",
        "plt.legend()"
      ],
      "execution_count": null,
      "outputs": [
        {
          "output_type": "execute_result",
          "data": {
            "text/plain": [
              "<matplotlib.legend.Legend at 0x7f62090b0110>"
            ]
          },
          "metadata": {},
          "execution_count": 14
        },
        {
          "output_type": "display_data",
          "data": {
            "image/png": "[encoded data removed]",
            "text/plain": [
              "<Figure size 432x288 with 1 Axes>"
            ]
          },
          "metadata": {
            "needs_background": "light"
          }
        }
      ]
    },
    {
      "cell_type": "code",
      "metadata": {
        "colab": {
          "base_uri": "https://localhost:8080/",
          "height": 282
        },
        "id": "MgYlR-_Xe731",
        "outputId": "9a8321ad-8bdc-4732-ec14-114605ceb8d6"
      },
      "source": [
        "plt.plot(running_loss_history, label='training loss')\n",
        "plt.plot(val_loss_history, label='val loss')\n",
        "plt.legend()"
      ],
      "execution_count": null,
      "outputs": [
        {
          "output_type": "execute_result",
          "data": {
            "text/plain": [
              "<matplotlib.legend.Legend at 0x7f620914f0d0>"
            ]
          },
          "metadata": {},
          "execution_count": 15
        },
        {
          "output_type": "display_data",
          "data": {
            "image/png": "[encoded data removed]",
            "text/plain": [
              "<Figure size 432x288 with 1 Axes>"
            ]
          },
          "metadata": {
            "needs_background": "light"
          }
        }
      ]
    }
  ]
}